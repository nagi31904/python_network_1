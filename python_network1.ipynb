{
 "cells": [
  {
   "cell_type": "markdown",
   "metadata": {},
   "source": [
    "## 配合網址：https://www.slideshare.net/PaulChao/python-20170416"
   ]
  },
  {
   "cell_type": "markdown",
   "metadata": {},
   "source": [
    "## 撰寫第一隻爬蟲"
   ]
  },
  {
   "cell_type": "code",
   "execution_count": null,
   "metadata": {
    "collapsed": true
   },
   "outputs": [],
   "source": [
    "#方法用法查詢指令\n",
    "#help(requests)   查詢requests\n",
    "#dir(requests)\n",
    "#help(requests.get)\n",
    "#?requests.post"
   ]
  },
  {
   "cell_type": "code",
   "execution_count": 5,
   "metadata": {
    "collapsed": false
   },
   "outputs": [],
   "source": [
    "import requests\n",
    "\n",
    "res = requests.get('http://www.tse.com.tw/ch/trading/fund/T86/T86.php')\n",
    "\n",
    "#res.text"
   ]
  },
  {
   "cell_type": "markdown",
   "metadata": {},
   "source": [
    "## 取得其他查詢資料，應用post"
   ]
  },
  {
   "cell_type": "code",
   "execution_count": 14,
   "metadata": {
    "collapsed": false
   },
   "outputs": [],
   "source": [
    "url = 'http://www.tse.com.tw/ch/trading/fund/T86/T86.php'\n",
    "date = \"106/04/13\"\n",
    "select_ch = \"24\"\n",
    "sorting_select = ['by_issue']\n",
    "payloan={\n",
    "    'qdate':date,\n",
    "    'select2':select_ch,\n",
    "    'sorting':sorting_select[0]\n",
    "}\n",
    "\n",
    "res_post = requests.post(url,data = payloan)\n",
    "\n"
   ]
  },
  {
   "cell_type": "markdown",
   "metadata": {},
   "source": [
    " ## 取得需要的資訊（資料剖析），使用BeautifulSoup4"
   ]
  },
  {
   "cell_type": "code",
   "execution_count": 34,
   "metadata": {
    "collapsed": false
   },
   "outputs": [
    {
     "data": {
      "text/plain": [
       "'\\n\\n\\n\\n#title{\\ncolor:red;\\n}\\n.link{\\nfont-size:50px;\\n}\\n\\n\\n\\nHello World\\nThis is Link1\\nThis is Link2\\n\\n\\n'"
      ]
     },
     "execution_count": 34,
     "metadata": {},
     "output_type": "execute_result"
    }
   ],
   "source": [
    "#引入方法一\n",
    "from bs4 import BeautifulSoup\n",
    "#引入方法二\n",
    "#import bs4\n",
    "#bs4.BeautifulSoup\n",
    "html_sample = '''\n",
    "<html>\n",
    "<head>\n",
    "<style>\n",
    "#title{\n",
    "color:red;\n",
    "}\n",
    ".link{\n",
    "font-size:50px;\n",
    "}\n",
    "</style>\n",
    "\n",
    "</head>\n",
    "    <body>\n",
    "    <h1 id=\"title\">Hello World</h1>\n",
    "    <a href=\"#\" class=\"link\">This is Link1</a>\n",
    "    <a href=\"#\" class=\"link\">This is Link2</a>\n",
    "    </body>\n",
    "    \n",
    "</html>\n",
    "'''\n",
    "\n",
    "soup = BeautifulSoup(html_sample,'html.parser')\n",
    "soup.text\n"
   ]
  },
  {
   "cell_type": "markdown",
   "metadata": {},
   "source": [
    "## 取得'a'的內容"
   ]
  },
  {
   "cell_type": "code",
   "execution_count": 26,
   "metadata": {
    "collapsed": false
   },
   "outputs": [
    {
     "data": {
      "text/plain": [
       "'Hello World'"
      ]
     },
     "execution_count": 26,
     "metadata": {},
     "output_type": "execute_result"
    }
   ],
   "source": [
    "#以標籤取得ex:a,h1\n",
    "soup_link = soup.select('a')\n",
    "soup_title = soup.select('h1')\n",
    "#select取出皆為陣列\n",
    "soup_link[0]\n",
    "soup_link[0].text\n",
    "soup_title[0].text"
   ]
  },
  {
   "cell_type": "markdown",
   "metadata": {},
   "source": [
    "## 根據css抓取資料"
   ]
  },
  {
   "cell_type": "code",
   "execution_count": 35,
   "metadata": {
    "collapsed": false
   },
   "outputs": [
    {
     "name": "stdout",
     "output_type": "stream",
     "text": [
      "<a class=\"link\" href=\"#\">This is Link1</a>\n",
      "This is Link1\n",
      "#\n",
      "<a class=\"link\" href=\"#\">This is Link2</a>\n",
      "This is Link2\n",
      "#\n"
     ]
    }
   ],
   "source": [
    "#id=\"title\" ID=>#\n",
    "soup.select('#title')[0].text\n",
    "\n",
    "#class='link' class=>.\n",
    "for link in soup.select('.link'):\n",
    "    print(link)\n",
    "    print(link.text)\n",
    "    print(link['href'])"
   ]
  },
  {
   "cell_type": "markdown",
   "metadata": {},
   "source": [
    "## 抓取表格資料"
   ]
  },
  {
   "cell_type": "code",
   "execution_count": 49,
   "metadata": {
    "collapsed": false
   },
   "outputs": [
    {
     "name": "stdout",
     "output_type": "stream",
     "text": [
      "證券代號\n",
      "證券名稱\n",
      "外資買進股數\n",
      "外資賣出股數\n",
      "外資買賣超股數\n",
      "投信買進股數\n",
      "投信賣出股數\n",
      "投信買賣超股數\n",
      "自營商買賣超股數\n",
      "自營商買進股數(自行買賣)\n",
      "自營商賣出股數(自行買賣)\n",
      "自營商買賣超股數(自行買賣)\n",
      "自營商買進股數(避險)\n",
      "自營商賣出股數(避險)\n",
      "自營商買賣超股數(避險)\n",
      "三大法人買賣超股數\n"
     ]
    }
   ],
   "source": [
    "#lnfoLite工具（小工具）\n",
    "res_post_soup = BeautifulSoup(res_post.text,'html.parser')\n",
    "\n",
    "tb = res_post_soup.select('#tbl-sortable')\n",
    "for th in tb[0].select('th'):\n",
    "    print(th.text)\n",
    "\n"
   ]
  },
  {
   "cell_type": "markdown",
   "metadata": {},
   "source": [
    "## 使用pandas處理資料"
   ]
  },
  {
   "cell_type": "code",
   "execution_count": null,
   "metadata": {
    "collapsed": true
   },
   "outputs": [],
   "source": []
  }
 ],
 "metadata": {
  "kernelspec": {
   "display_name": "Python 3",
   "language": "python",
   "name": "python3"
  },
  "language_info": {
   "codemirror_mode": {
    "name": "ipython",
    "version": 3
   },
   "file_extension": ".py",
   "mimetype": "text/x-python",
   "name": "python",
   "nbconvert_exporter": "python",
   "pygments_lexer": "ipython3",
   "version": "3.6.0"
  }
 },
 "nbformat": 4,
 "nbformat_minor": 2
}
