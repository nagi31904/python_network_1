{
 "cells": [
  {
   "cell_type": "markdown",
   "metadata": {},
   "source": [
    "## 配合網址：https://www.slideshare.net/PaulChao/python-20170416"
   ]
  },
  {
   "cell_type": "markdown",
   "metadata": {},
   "source": [
    "## 撰寫第一隻爬蟲"
   ]
  },
  {
   "cell_type": "code",
   "execution_count": null,
   "metadata": {
    "collapsed": true
   },
   "outputs": [],
   "source": [
    "#方法用法查詢指令\n",
    "#help(requests)   查詢requests\n",
    "#dir(requests)\n",
    "#help(requests.get)\n",
    "#?requests.post"
   ]
  },
  {
   "cell_type": "code",
   "execution_count": 5,
   "metadata": {
    "collapsed": false
   },
   "outputs": [],
   "source": [
    "import requests\n",
    "\n",
    "res = requests.get('http://www.tse.com.tw/ch/trading/fund/T86/T86.php')\n",
    "\n",
    "#res.text"
   ]
  },
  {
   "cell_type": "markdown",
   "metadata": {},
   "source": [
    "## 取得其他查詢資料，應用post"
   ]
  },
  {
   "cell_type": "code",
   "execution_count": 14,
   "metadata": {
    "collapsed": false
   },
   "outputs": [],
   "source": [
    "url = 'http://www.tse.com.tw/ch/trading/fund/T86/T86.php'\n",
    "date = \"106/04/13\"\n",
    "select_ch = \"24\"\n",
    "sorting_select = ['by_issue']\n",
    "payloan={\n",
    "    'qdate':date,\n",
    "    'select2':select_ch,\n",
    "    'sorting':sorting_select[0]\n",
    "}\n",
    "\n",
    "res_post = requests.post(url,data = payloan)\n",
    "\n"
   ]
  },
  {
   "cell_type": "markdown",
   "metadata": {},
   "source": [
    " ## 取得需要的資訊（資料剖析），使用BeautifulSoup4"
   ]
  },
  {
   "cell_type": "code",
   "execution_count": 34,
   "metadata": {
    "collapsed": false
   },
   "outputs": [
    {
     "data": {
      "text/plain": [
       "'\\n\\n\\n\\n#title{\\ncolor:red;\\n}\\n.link{\\nfont-size:50px;\\n}\\n\\n\\n\\nHello World\\nThis is Link1\\nThis is Link2\\n\\n\\n'"
      ]
     },
     "execution_count": 34,
     "metadata": {},
     "output_type": "execute_result"
    }
   ],
   "source": [
    "#引入方法一\n",
    "from bs4 import BeautifulSoup\n",
    "#引入方法二\n",
    "#import bs4\n",
    "#bs4.BeautifulSoup\n",
    "html_sample = '''\n",
    "<html>\n",
    "<head>\n",
    "<style>\n",
    "#title{\n",
    "color:red;\n",
    "}\n",
    ".link{\n",
    "font-size:50px;\n",
    "}\n",
    "</style>\n",
    "\n",
    "</head>\n",
    "    <body>\n",
    "    <h1 id=\"title\">Hello World</h1>\n",
    "    <a href=\"#\" class=\"link\">This is Link1</a>\n",
    "    <a href=\"#\" class=\"link\">This is Link2</a>\n",
    "    </body>\n",
    "</html>\n",
    "'''\n",
    "\n",
    "soup = BeautifulSoup(html_sample,'html.parser')\n",
    "soup.text\n"
   ]
  },
  {
   "cell_type": "markdown",
   "metadata": {},
   "source": [
    "## 取得'a'的內容"
   ]
  },
  {
   "cell_type": "code",
   "execution_count": 26,
   "metadata": {
    "collapsed": false
   },
   "outputs": [
    {
     "data": {
      "text/plain": [
       "'Hello World'"
      ]
     },
     "execution_count": 26,
     "metadata": {},
     "output_type": "execute_result"
    }
   ],
   "source": [
    "#以標籤取得ex:a,h1\n",
    "soup_link = soup.select('a')\n",
    "soup_title = soup.select('h1')\n",
    "#select取出皆為陣列\n",
    "soup_link[0]\n",
    "soup_link[0].text\n",
    "soup_title[0].text"
   ]
  },
  {
   "cell_type": "markdown",
   "metadata": {},
   "source": [
    "## 根據css抓取資料"
   ]
  },
  {
   "cell_type": "code",
   "execution_count": 35,
   "metadata": {
    "collapsed": false
   },
   "outputs": [
    {
     "name": "stdout",
     "output_type": "stream",
     "text": [
      "<a class=\"link\" href=\"#\">This is Link1</a>\n",
      "This is Link1\n",
      "#\n",
      "<a class=\"link\" href=\"#\">This is Link2</a>\n",
      "This is Link2\n",
      "#\n"
     ]
    }
   ],
   "source": [
    "#id=\"title\" ID=>#\n",
    "soup.select('#title')[0].text\n",
    "\n",
    "#class='link' class=>.\n",
    "for link in soup.select('.link'):\n",
    "    print(link)\n",
    "    print(link.text)\n",
    "    print(link['href'])"
   ]
  },
  {
   "cell_type": "markdown",
   "metadata": {},
   "source": [
    "## 抓取表格資料"
   ]
  },
  {
   "cell_type": "code",
   "execution_count": 47,
   "metadata": {
    "collapsed": false
   },
   "outputs": [
    {
     "data": {
      "text/plain": [
       "[<table align=\"center\" border=\"1\" class=\"sortable\" id=\"tbl-sortable\" style=\"width:1400px;\"> <thead> <tr> <th>證券<br>代號</br></th> <th>證券<br>名稱</br></th> <th>外資<br>買進股數</br></th> <th>外資<br>賣出股數</br></th> <th>外資<br>買賣超股數</br></th> <th>投信<br>買進股數</br></th> <th>投信<br>賣出股數</br></th> <th>投信<br>買賣超股數</br></th> <th>自營商<br>買賣超股數</br></th> <th>自營商<br>買進股數<br>(自行買賣)</br></br></th> <th>自營商<br>賣出股數<br>(自行買賣)</br></br></th> <th>自營商<br>買賣超股數<br>(自行買賣)</br></br></th> <th>自營商<br>買進股數<br>(避險)</br></br></th> <th>自營商<br>賣出股數<br>(避險)</br></br></th> <th>自營商<br>買賣超股數<br>(避險)</br></br></th> <th>三大法人<br>買賣超股數</br></th> </tr> </thead> <tbody> <tr> <td>2303</td> <td>聯電            </td> <td class=\"right\">10,754,000</td> <td class=\"right\">5,205,000</td> <td class=\"right\">5,549,000</td> <td class=\"right\">0</td> <td class=\"right\">2,000</td> <td class=\"right\">-2,000</td> <td class=\"right\">-601,000</td> <td class=\"right\">0</td> <td class=\"right\">900,000</td> <td class=\"right\">-900,000</td> <td class=\"right\">390,000</td> <td class=\"right\">91,000</td> <td class=\"right\">299,000</td> <td class=\"right\">4,946,000</td> </tr> <tr> <td>2408</td> <td>南亞科          </td> <td class=\"right\">1,796,514</td> <td class=\"right\">818,000</td> <td class=\"right\">978,514</td> <td class=\"right\">0</td> <td class=\"right\">0</td> <td class=\"right\">0</td> <td class=\"right\">3,168,000</td> <td class=\"right\">1,172,000</td> <td class=\"right\">303,000</td> <td class=\"right\">869,000</td> <td class=\"right\">2,689,000</td> <td class=\"right\">390,000</td> <td class=\"right\">2,299,000</td> <td class=\"right\">4,146,514</td> </tr> <tr> <td>2330</td> <td>台積電          </td> <td class=\"right\">8,737,954</td> <td class=\"right\">7,580,701</td> <td class=\"right\">1,157,253</td> <td class=\"right\">202,000</td> <td class=\"right\">167,000</td> <td class=\"right\">35,000</td> <td class=\"right\">-253,000</td> <td class=\"right\">171,000</td> <td class=\"right\">905,000</td> <td class=\"right\">-734,000</td> <td class=\"right\">624,000</td> <td class=\"right\">143,000</td> <td class=\"right\">481,000</td> <td class=\"right\">939,253</td> </tr> <tr> <td>3545</td> <td>敦泰            </td> <td class=\"right\">910,000</td> <td class=\"right\">161,200</td> <td class=\"right\">748,800</td> <td class=\"right\">0</td> <td class=\"right\">0</td> <td class=\"right\">0</td> <td class=\"right\">149,000</td> <td class=\"right\">173,000</td> <td class=\"right\">1,000</td> <td class=\"right\">172,000</td> <td class=\"right\">36,000</td> <td class=\"right\">59,000</td> <td class=\"right\">-23,000</td> <td class=\"right\">897,800</td> </tr> <tr> <td>8110</td> <td>華東            </td> <td class=\"right\">1,331,000</td> <td class=\"right\">597,000</td> <td class=\"right\">734,000</td> <td class=\"right\">0</td> <td class=\"right\">0</td> <td class=\"right\">0</td> <td class=\"right\">129,000</td> <td class=\"right\">164,000</td> <td class=\"right\">35,000</td> <td class=\"right\">129,000</td> <td class=\"right\">0</td> <td class=\"right\">0</td> <td class=\"right\">0</td> <td class=\"right\">863,000</td> </tr> <tr> <td>6257</td> <td>矽格            </td> <td class=\"right\">580,000</td> <td class=\"right\">188,000</td> <td class=\"right\">392,000</td> <td class=\"right\">0</td> <td class=\"right\">0</td> <td class=\"right\">0</td> <td class=\"right\">-1,000</td> <td class=\"right\">0</td> <td class=\"right\">0</td> <td class=\"right\">0</td> <td class=\"right\">0</td> <td class=\"right\">1,000</td> <td class=\"right\">-1,000</td> <td class=\"right\">391,000</td> </tr> <tr> <td>2401</td> <td>凌陽            </td> <td class=\"right\">380,000</td> <td class=\"right\">53,000</td> <td class=\"right\">327,000</td> <td class=\"right\">0</td> <td class=\"right\">0</td> <td class=\"right\">0</td> <td class=\"right\">-1,000</td> <td class=\"right\">0</td> <td class=\"right\">1,000</td> <td class=\"right\">-1,000</td> <td class=\"right\">0</td> <td class=\"right\">0</td> <td class=\"right\">0</td> <td class=\"right\">326,000</td> </tr> <tr> <td>6271</td> <td>同欣電          </td> <td class=\"right\">922,000</td> <td class=\"right\">333,000</td> <td class=\"right\">589,000</td> <td class=\"right\">9,000</td> <td class=\"right\">285,000</td> <td class=\"right\">-276,000</td> <td class=\"right\">-15,000</td> <td class=\"right\">44,000</td> <td class=\"right\">47,000</td> <td class=\"right\">-3,000</td> <td class=\"right\">0</td> <td class=\"right\">12,000</td> <td class=\"right\">-12,000</td> <td class=\"right\">298,000</td> </tr> <tr> <td>4968</td> <td>立積            </td> <td class=\"right\">626,000</td> <td class=\"right\">460,000</td> <td class=\"right\">166,000</td> <td class=\"right\">129,000</td> <td class=\"right\">20,000</td> <td class=\"right\">109,000</td> <td class=\"right\">17,000</td> <td class=\"right\">65,000</td> <td class=\"right\">48,000</td> <td class=\"right\">17,000</td> <td class=\"right\">0</td> <td class=\"right\">0</td> <td class=\"right\">0</td> <td class=\"right\">292,000</td> </tr> <tr> <td>5305</td> <td>敦南            </td> <td class=\"right\">313,000</td> <td class=\"right\">102,000</td> <td class=\"right\">211,000</td> <td class=\"right\">0</td> <td class=\"right\">27,000</td> <td class=\"right\">-27,000</td> <td class=\"right\">35,000</td> <td class=\"right\">0</td> <td class=\"right\">0</td> <td class=\"right\">0</td> <td class=\"right\">35,000</td> <td class=\"right\">0</td> <td class=\"right\">35,000</td> <td class=\"right\">219,000</td> </tr> <tr> <td>8131</td> <td>福懋科          </td> <td class=\"right\">209,000</td> <td class=\"right\">24,000</td> <td class=\"right\">185,000</td> <td class=\"right\">0</td> <td class=\"right\">0</td> <td class=\"right\">0</td> <td class=\"right\">0</td> <td class=\"right\">0</td> <td class=\"right\">0</td> <td class=\"right\">0</td> <td class=\"right\">0</td> <td class=\"right\">0</td> <td class=\"right\">0</td> <td class=\"right\">185,000</td> </tr> <tr> <td>3034</td> <td>聯詠            </td> <td class=\"right\">410,000</td> <td class=\"right\">280,000</td> <td class=\"right\">130,000</td> <td class=\"right\">0</td> <td class=\"right\">0</td> <td class=\"right\">0</td> <td class=\"right\">52,000</td> <td class=\"right\">0</td> <td class=\"right\">0</td> <td class=\"right\">0</td> <td class=\"right\">55,000</td> <td class=\"right\">3,000</td> <td class=\"right\">52,000</td> <td class=\"right\">182,000</td> </tr> <tr> <td>8081</td> <td>致新            </td> <td class=\"right\">9,000</td> <td class=\"right\">128,000</td> <td class=\"right\">-119,000</td> <td class=\"right\">0</td> <td class=\"right\">0</td> <td class=\"right\">0</td> <td class=\"right\">296,000</td> <td class=\"right\">296,000</td> <td class=\"right\">0</td> <td class=\"right\">296,000</td> <td class=\"right\">0</td> <td class=\"right\">0</td> <td class=\"right\">0</td> <td class=\"right\">177,000</td> </tr> <tr> <td>3532</td> <td>台勝科          </td> <td class=\"right\">232,000</td> <td class=\"right\">112,000</td> <td class=\"right\">120,000</td> <td class=\"right\">36,000</td> <td class=\"right\">0</td> <td class=\"right\">36,000</td> <td class=\"right\">21,000</td> <td class=\"right\">103,000</td> <td class=\"right\">82,000</td> <td class=\"right\">21,000</td> <td class=\"right\">0</td> <td class=\"right\">0</td> <td class=\"right\">0</td> <td class=\"right\">177,000</td> </tr> <tr> <td>2351</td> <td>順德            </td> <td class=\"right\">240,000</td> <td class=\"right\">205,000</td> <td class=\"right\">35,000</td> <td class=\"right\">0</td> <td class=\"right\">0</td> <td class=\"right\">0</td> <td class=\"right\">109,000</td> <td class=\"right\">124,000</td> <td class=\"right\">0</td> <td class=\"right\">124,000</td> <td class=\"right\">0</td> <td class=\"right\">15,000</td> <td class=\"right\">-15,000</td> <td class=\"right\">144,000</td> </tr> <tr> <td>3661</td> <td>世芯-KY         </td> <td class=\"right\">48,000</td> <td class=\"right\">16,000</td> <td class=\"right\">32,000</td> <td class=\"right\">75,000</td> <td class=\"right\">0</td> <td class=\"right\">75,000</td> <td class=\"right\">10,000</td> <td class=\"right\">10,000</td> <td class=\"right\">0</td> <td class=\"right\">10,000</td> <td class=\"right\">0</td> <td class=\"right\">0</td> <td class=\"right\">0</td> <td class=\"right\">117,000</td> </tr> <tr> <td>8271</td> <td>宇瞻            </td> <td class=\"right\">133,001</td> <td class=\"right\">20,000</td> <td class=\"right\">113,001</td> <td class=\"right\">0</td> <td class=\"right\">0</td> <td class=\"right\">0</td> <td class=\"right\">-7,000</td> <td class=\"right\">0</td> <td class=\"right\">7,000</td> <td class=\"right\">-7,000</td> <td class=\"right\">0</td> <td class=\"right\">0</td> <td class=\"right\">0</td> <td class=\"right\">106,001</td> </tr> <tr> <td>2329</td> <td>華泰            </td> <td class=\"right\">111,000</td> <td class=\"right\">5,000</td> <td class=\"right\">106,000</td> <td class=\"right\">0</td> <td class=\"right\">0</td> <td class=\"right\">0</td> <td class=\"right\">-2,000</td> <td class=\"right\">0</td> <td class=\"right\">2,000</td> <td class=\"right\">-2,000</td> <td class=\"right\">0</td> <td class=\"right\">0</td> <td class=\"right\">0</td> <td class=\"right\">104,000</td> </tr> <tr> <td>2369</td> <td>菱生            </td> <td class=\"right\">148,000</td> <td class=\"right\">50,000</td> <td class=\"right\">98,000</td> <td class=\"right\">0</td> <td class=\"right\">0</td> <td class=\"right\">0</td> <td class=\"right\">0</td> <td class=\"right\">0</td> <td class=\"right\">0</td> <td class=\"right\">0</td> <td class=\"right\">0</td> <td class=\"right\">0</td> <td class=\"right\">0</td> <td class=\"right\">98,000</td> </tr> <tr> <td>6202</td> <td>盛群            </td> <td class=\"right\">188,000</td> <td class=\"right\">87,000</td> <td class=\"right\">101,000</td> <td class=\"right\">0</td> <td class=\"right\">0</td> <td class=\"right\">0</td> <td class=\"right\">-10,000</td> <td class=\"right\">11,000</td> <td class=\"right\">21,000</td> <td class=\"right\">-10,000</td> <td class=\"right\">0</td> <td class=\"right\">0</td> <td class=\"right\">0</td> <td class=\"right\">91,000</td> </tr> <tr> <td>2436</td> <td>偉詮電          </td> <td class=\"right\">371,000</td> <td class=\"right\">200,000</td> <td class=\"right\">171,000</td> <td class=\"right\">0</td> <td class=\"right\">0</td> <td class=\"right\">0</td> <td class=\"right\">-88,000</td> <td class=\"right\">0</td> <td class=\"right\">88,000</td> <td class=\"right\">-88,000</td> <td class=\"right\">0</td> <td class=\"right\">0</td> <td class=\"right\">0</td> <td class=\"right\">83,000</td> </tr> <tr> <td>3686</td> <td>達能            </td> <td class=\"right\">82,000</td> <td class=\"right\">1,000</td> <td class=\"right\">81,000</td> <td class=\"right\">0</td> <td class=\"right\">0</td> <td class=\"right\">0</td> <td class=\"right\">-1,000</td> <td class=\"right\">0</td> <td class=\"right\">1,000</td> <td class=\"right\">-1,000</td> <td class=\"right\">0</td> <td class=\"right\">0</td> <td class=\"right\">0</td> <td class=\"right\">80,000</td> </tr> <tr> <td>3443</td> <td>創意            </td> <td class=\"right\">141,000</td> <td class=\"right\">82,000</td> <td class=\"right\">59,000</td> <td class=\"right\">20,000</td> <td class=\"right\">0</td> <td class=\"right\">20,000</td> <td class=\"right\">-11,000</td> <td class=\"right\">0</td> <td class=\"right\">16,000</td> <td class=\"right\">-16,000</td> <td class=\"right\">7,000</td> <td class=\"right\">2,000</td> <td class=\"right\">5,000</td> <td class=\"right\">68,000</td> </tr> <tr> <td>2451</td> <td>創見            </td> <td class=\"right\">172,000</td> <td class=\"right\">113,000</td> <td class=\"right\">59,000</td> <td class=\"right\">0</td> <td class=\"right\">0</td> <td class=\"right\">0</td> <td class=\"right\">-2,000</td> <td class=\"right\">0</td> <td class=\"right\">2,000</td> <td class=\"right\">-2,000</td> <td class=\"right\">0</td> <td class=\"right\">0</td> <td class=\"right\">0</td> <td class=\"right\">57,000</td> </tr> <tr> <td>2338</td> <td>光罩            </td> <td class=\"right\">115,000</td> <td class=\"right\">63,000</td> <td class=\"right\">52,000</td> <td class=\"right\">0</td> <td class=\"right\">0</td> <td class=\"right\">0</td> <td class=\"right\">0</td> <td class=\"right\">0</td> <td class=\"right\">0</td> <td class=\"right\">0</td> <td class=\"right\">0</td> <td class=\"right\">0</td> <td class=\"right\">0</td> <td class=\"right\">52,000</td> </tr> <tr> <td>6415</td> <td>矽力-KY         </td> <td class=\"right\">98,000</td> <td class=\"right\">44,000</td> <td class=\"right\">54,000</td> <td class=\"right\">2,000</td> <td class=\"right\">31,000</td> <td class=\"right\">-29,000</td> <td class=\"right\">25,000</td> <td class=\"right\">27,000</td> <td class=\"right\">0</td> <td class=\"right\">27,000</td> <td class=\"right\">0</td> <td class=\"right\">2,000</td> <td class=\"right\">-2,000</td> <td class=\"right\">50,000</td> </tr> <tr> <td>6531</td> <td>愛普            </td> <td class=\"right\">51,000</td> <td class=\"right\">5,000</td> <td class=\"right\">46,000</td> <td class=\"right\">0</td> <td class=\"right\">0</td> <td class=\"right\">0</td> <td class=\"right\">0</td> <td class=\"right\">0</td> <td class=\"right\">0</td> <td class=\"right\">0</td> <td class=\"right\">0</td> <td class=\"right\">0</td> <td class=\"right\">0</td> <td class=\"right\">46,000</td> </tr> <tr> <td>2379</td> <td>瑞昱            </td> <td class=\"right\">284,000</td> <td class=\"right\">228,287</td> <td class=\"right\">55,713</td> <td class=\"right\">0</td> <td class=\"right\">0</td> <td class=\"right\">0</td> <td class=\"right\">-19,000</td> <td class=\"right\">0</td> <td class=\"right\">0</td> <td class=\"right\">0</td> <td class=\"right\">4,000</td> <td class=\"right\">23,000</td> <td class=\"right\">-19,000</td> <td class=\"right\">36,713</td> </tr> <tr> <td>3559</td> <td>全智科          </td> <td class=\"right\">0</td> <td class=\"right\">6,000</td> <td class=\"right\">-6,000</td> <td class=\"right\">0</td> <td class=\"right\">0</td> <td class=\"right\">0</td> <td class=\"right\">42,000</td> <td class=\"right\">42,000</td> <td class=\"right\">0</td> <td class=\"right\">42,000</td> <td class=\"right\">0</td> <td class=\"right\">0</td> <td class=\"right\">0</td> <td class=\"right\">36,000</td> </tr> <tr> <td>3413</td> <td>京鼎            </td> <td class=\"right\">83,000</td> <td class=\"right\">135,000</td> <td class=\"right\">-52,000</td> <td class=\"right\">10,000</td> <td class=\"right\">50,000</td> <td class=\"right\">-40,000</td> <td class=\"right\">117,000</td> <td class=\"right\">136,000</td> <td class=\"right\">31,000</td> <td class=\"right\">105,000</td> <td class=\"right\">37,000</td> <td class=\"right\">25,000</td> <td class=\"right\">12,000</td> <td class=\"right\">25,000</td> </tr> <tr> <td>3041</td> <td>揚智            </td> <td class=\"right\">37,000</td> <td class=\"right\">15,000</td> <td class=\"right\">22,000</td> <td class=\"right\">0</td> <td class=\"right\">0</td> <td class=\"right\">0</td> <td class=\"right\">0</td> <td class=\"right\">0</td> <td class=\"right\">0</td> <td class=\"right\">0</td> <td class=\"right\">0</td> <td class=\"right\">0</td> <td class=\"right\">0</td> <td class=\"right\">22,000</td> </tr> <tr> <td>2363</td> <td>矽統            </td> <td class=\"right\">31,002</td> <td class=\"right\">10,000</td> <td class=\"right\">21,002</td> <td class=\"right\">0</td> <td class=\"right\">0</td> <td class=\"right\">0</td> <td class=\"right\">0</td> <td class=\"right\">0</td> <td class=\"right\">0</td> <td class=\"right\">0</td> <td class=\"right\">0</td> <td class=\"right\">0</td> <td class=\"right\">0</td> <td class=\"right\">21,002</td> </tr> <tr> <td>3519</td> <td>綠能            </td> <td class=\"right\">103,000</td> <td class=\"right\">83,000</td> <td class=\"right\">20,000</td> <td class=\"right\">0</td> <td class=\"right\">0</td> <td class=\"right\">0</td> <td class=\"right\">0</td> <td class=\"right\">0</td> <td class=\"right\">0</td> <td class=\"right\">0</td> <td class=\"right\">0</td> <td class=\"right\">0</td> <td class=\"right\">0</td> <td class=\"right\">20,000</td> </tr> <tr> <td>6533</td> <td>晶心科          </td> <td class=\"right\">23,000</td> <td class=\"right\">15,000</td> <td class=\"right\">8,000</td> <td class=\"right\">0</td> <td class=\"right\">0</td> <td class=\"right\">0</td> <td class=\"right\">0</td> <td class=\"right\">0</td> <td class=\"right\">0</td> <td class=\"right\">0</td> <td class=\"right\">0</td> <td class=\"right\">0</td> <td class=\"right\">0</td> <td class=\"right\">8,000</td> </tr> <tr> <td>3583</td> <td>辛耘            </td> <td class=\"right\">7,000</td> <td class=\"right\">0</td> <td class=\"right\">7,000</td> <td class=\"right\">0</td> <td class=\"right\">0</td> <td class=\"right\">0</td> <td class=\"right\">0</td> <td class=\"right\">0</td> <td class=\"right\">0</td> <td class=\"right\">0</td> <td class=\"right\">0</td> <td class=\"right\">0</td> <td class=\"right\">0</td> <td class=\"right\">7,000</td> </tr> <tr> <td>5285</td> <td>界霖            </td> <td class=\"right\">5,000</td> <td class=\"right\">0</td> <td class=\"right\">5,000</td> <td class=\"right\">0</td> <td class=\"right\">0</td> <td class=\"right\">0</td> <td class=\"right\">0</td> <td class=\"right\">0</td> <td class=\"right\">0</td> <td class=\"right\">0</td> <td class=\"right\">0</td> <td class=\"right\">0</td> <td class=\"right\">0</td> <td class=\"right\">5,000</td> </tr> <tr> <td>3579</td> <td>尚志            </td> <td class=\"right\">1,000</td> <td class=\"right\">0</td> <td class=\"right\">1,000</td> <td class=\"right\">0</td> <td class=\"right\">0</td> <td class=\"right\">0</td> <td class=\"right\">0</td> <td class=\"right\">0</td> <td class=\"right\">0</td> <td class=\"right\">0</td> <td class=\"right\">0</td> <td class=\"right\">0</td> <td class=\"right\">0</td> <td class=\"right\">1,000</td> </tr> <tr> <td>2342</td> <td>茂矽            </td> <td class=\"right\">1,000</td> <td class=\"right\">0</td> <td class=\"right\">1,000</td> <td class=\"right\">0</td> <td class=\"right\">0</td> <td class=\"right\">0</td> <td class=\"right\">-1,000</td> <td class=\"right\">0</td> <td class=\"right\">1,000</td> <td class=\"right\">-1,000</td> <td class=\"right\">0</td> <td class=\"right\">0</td> <td class=\"right\">0</td> <td class=\"right\">0</td> </tr> <tr> <td>1437</td> <td>勤益控          </td> <td class=\"right\">0</td> <td class=\"right\">1,000</td> <td class=\"right\">-1,000</td> <td class=\"right\">0</td> <td class=\"right\">0</td> <td class=\"right\">0</td> <td class=\"right\">0</td> <td class=\"right\">0</td> <td class=\"right\">0</td> <td class=\"right\">0</td> <td class=\"right\">0</td> <td class=\"right\">0</td> <td class=\"right\">0</td> <td class=\"right\">-1,000</td> </tr> <tr> <td>3257</td> <td>虹冠電          </td> <td class=\"right\">0</td> <td class=\"right\">2,000</td> <td class=\"right\">-2,000</td> <td class=\"right\">0</td> <td class=\"right\">0</td> <td class=\"right\">0</td> <td class=\"right\">0</td> <td class=\"right\">0</td> <td class=\"right\">0</td> <td class=\"right\">0</td> <td class=\"right\">0</td> <td class=\"right\">0</td> <td class=\"right\">0</td> <td class=\"right\">-2,000</td> </tr> <tr> <td>6243</td> <td>迅杰            </td> <td class=\"right\">0</td> <td class=\"right\">2,000</td> <td class=\"right\">-2,000</td> <td class=\"right\">0</td> <td class=\"right\">0</td> <td class=\"right\">0</td> <td class=\"right\">0</td> <td class=\"right\">0</td> <td class=\"right\">0</td> <td class=\"right\">0</td> <td class=\"right\">0</td> <td class=\"right\">0</td> <td class=\"right\">0</td> <td class=\"right\">-2,000</td> </tr> <tr> <td>2388</td> <td>威盛            </td> <td class=\"right\">0</td> <td class=\"right\">3,000</td> <td class=\"right\">-3,000</td> <td class=\"right\">0</td> <td class=\"right\">0</td> <td class=\"right\">0</td> <td class=\"right\">-1,000</td> <td class=\"right\">0</td> <td class=\"right\">1,000</td> <td class=\"right\">-1,000</td> <td class=\"right\">0</td> <td class=\"right\">0</td> <td class=\"right\">0</td> <td class=\"right\">-4,000</td> </tr> <tr> <td>3588</td> <td>通嘉            </td> <td class=\"right\">0</td> <td class=\"right\">6,000</td> <td class=\"right\">-6,000</td> <td class=\"right\">0</td> <td class=\"right\">0</td> <td class=\"right\">0</td> <td class=\"right\">0</td> <td class=\"right\">0</td> <td class=\"right\">0</td> <td class=\"right\">0</td> <td class=\"right\">0</td> <td class=\"right\">0</td> <td class=\"right\">0</td> <td class=\"right\">-6,000</td> </tr> <tr> <td>3094</td> <td>聯傑            </td> <td class=\"right\">0</td> <td class=\"right\">7,000</td> <td class=\"right\">-7,000</td> <td class=\"right\">0</td> <td class=\"right\">0</td> <td class=\"right\">0</td> <td class=\"right\">0</td> <td class=\"right\">0</td> <td class=\"right\">0</td> <td class=\"right\">0</td> <td class=\"right\">0</td> <td class=\"right\">0</td> <td class=\"right\">0</td> <td class=\"right\">-7,000</td> </tr> <tr> <td>3014</td> <td>聯陽            </td> <td class=\"right\">24,000</td> <td class=\"right\">31,000</td> <td class=\"right\">-7,000</td> <td class=\"right\">0</td> <td class=\"right\">0</td> <td class=\"right\">0</td> <td class=\"right\">0</td> <td class=\"right\">0</td> <td class=\"right\">0</td> <td class=\"right\">0</td> <td class=\"right\">0</td> <td class=\"right\">0</td> <td class=\"right\">0</td> <td class=\"right\">-7,000</td> </tr> <tr> <td>6525</td> <td>捷敏-KY         </td> <td class=\"right\">44,000</td> <td class=\"right\">59,000</td> <td class=\"right\">-15,000</td> <td class=\"right\">0</td> <td class=\"right\">0</td> <td class=\"right\">0</td> <td class=\"right\">0</td> <td class=\"right\">0</td> <td class=\"right\">0</td> <td class=\"right\">0</td> <td class=\"right\">0</td> <td class=\"right\">0</td> <td class=\"right\">0</td> <td class=\"right\">-15,000</td> </tr> <tr> <td>8261</td> <td>富鼎            </td> <td class=\"right\">3,001</td> <td class=\"right\">17,000</td> <td class=\"right\">-13,999</td> <td class=\"right\">0</td> <td class=\"right\">0</td> <td class=\"right\">0</td> <td class=\"right\">-2,000</td> <td class=\"right\">0</td> <td class=\"right\">2,000</td> <td class=\"right\">-2,000</td> <td class=\"right\">0</td> <td class=\"right\">0</td> <td class=\"right\">0</td> <td class=\"right\">-15,999</td> </tr> <tr> <td>3536</td> <td>誠創            </td> <td class=\"right\">12,000</td> <td class=\"right\">32,000</td> <td class=\"right\">-20,000</td> <td class=\"right\">0</td> <td class=\"right\">0</td> <td class=\"right\">0</td> <td class=\"right\">0</td> <td class=\"right\">0</td> <td class=\"right\">0</td> <td class=\"right\">0</td> <td class=\"right\">0</td> <td class=\"right\">0</td> <td class=\"right\">0</td> <td class=\"right\">-20,000</td> </tr> <tr> <td>3054</td> <td>立萬利          </td> <td class=\"right\">2,000</td> <td class=\"right\">23,000</td> <td class=\"right\">-21,000</td> <td class=\"right\">0</td> <td class=\"right\">0</td> <td class=\"right\">0</td> <td class=\"right\">0</td> <td class=\"right\">0</td> <td class=\"right\">0</td> <td class=\"right\">0</td> <td class=\"right\">0</td> <td class=\"right\">0</td> <td class=\"right\">0</td> <td class=\"right\">-21,000</td> </tr> <tr> <td>2441</td> <td>超豐            </td> <td class=\"right\">52,000</td> <td class=\"right\">67,000</td> <td class=\"right\">-15,000</td> <td class=\"right\">0</td> <td class=\"right\">0</td> <td class=\"right\">0</td> <td class=\"right\">-7,000</td> <td class=\"right\">0</td> <td class=\"right\">7,000</td> <td class=\"right\">-7,000</td> <td class=\"right\">0</td> <td class=\"right\">0</td> <td class=\"right\">0</td> <td class=\"right\">-22,000</td> </tr> <tr> <td>2325</td> <td>矽品            </td> <td class=\"right\">1,706,000</td> <td class=\"right\">1,753,000</td> <td class=\"right\">-47,000</td> <td class=\"right\">0</td> <td class=\"right\">0</td> <td class=\"right\">0</td> <td class=\"right\">10,000</td> <td class=\"right\">1,000</td> <td class=\"right\">0</td> <td class=\"right\">1,000</td> <td class=\"right\">9,000</td> <td class=\"right\">0</td> <td class=\"right\">9,000</td> <td class=\"right\">-37,000</td> </tr> <tr> <td>3016</td> <td>嘉晶            </td> <td class=\"right\">86,000</td> <td class=\"right\">63,000</td> <td class=\"right\">23,000</td> <td class=\"right\">0</td> <td class=\"right\">0</td> <td class=\"right\">0</td> <td class=\"right\">-75,000</td> <td class=\"right\">0</td> <td class=\"right\">75,000</td> <td class=\"right\">-75,000</td> <td class=\"right\">0</td> <td class=\"right\">0</td> <td class=\"right\">0</td> <td class=\"right\">-52,000</td> </tr> <tr> <td>4952</td> <td>凌通            </td> <td class=\"right\">16,000</td> <td class=\"right\">81,000</td> <td class=\"right\">-65,000</td> <td class=\"right\">0</td> <td class=\"right\">0</td> <td class=\"right\">0</td> <td class=\"right\">-5,000</td> <td class=\"right\">0</td> <td class=\"right\">5,000</td> <td class=\"right\">-5,000</td> <td class=\"right\">0</td> <td class=\"right\">0</td> <td class=\"right\">0</td> <td class=\"right\">-70,000</td> </tr> <tr> <td>5471</td> <td>松翰            </td> <td class=\"right\">6,000</td> <td class=\"right\">74,000</td> <td class=\"right\">-68,000</td> <td class=\"right\">0</td> <td class=\"right\">0</td> <td class=\"right\">0</td> <td class=\"right\">-3,000</td> <td class=\"right\">0</td> <td class=\"right\">3,000</td> <td class=\"right\">-3,000</td> <td class=\"right\">0</td> <td class=\"right\">0</td> <td class=\"right\">0</td> <td class=\"right\">-71,000</td> </tr> <tr> <td>6451</td> <td>訊芯-KY         </td> <td class=\"right\">5,000</td> <td class=\"right\">75,000</td> <td class=\"right\">-70,000</td> <td class=\"right\">0</td> <td class=\"right\">0</td> <td class=\"right\">0</td> <td class=\"right\">-10,000</td> <td class=\"right\">0</td> <td class=\"right\">0</td> <td class=\"right\">0</td> <td class=\"right\">4,000</td> <td class=\"right\">14,000</td> <td class=\"right\">-10,000</td> <td class=\"right\">-80,000</td> </tr> <tr> <td>5269</td> <td>祥碩            </td> <td class=\"right\">64,000</td> <td class=\"right\">65,000</td> <td class=\"right\">-1,000</td> <td class=\"right\">0</td> <td class=\"right\">102,000</td> <td class=\"right\">-102,000</td> <td class=\"right\">-25,000</td> <td class=\"right\">25,000</td> <td class=\"right\">50,000</td> <td class=\"right\">-25,000</td> <td class=\"right\">0</td> <td class=\"right\">0</td> <td class=\"right\">0</td> <td class=\"right\">-128,000</td> </tr> <tr> <td>3035</td> <td>智原            </td> <td class=\"right\">23,000</td> <td class=\"right\">152,400</td> <td class=\"right\">-129,400</td> <td class=\"right\">0</td> <td class=\"right\">0</td> <td class=\"right\">0</td> <td class=\"right\">1,000</td> <td class=\"right\">0</td> <td class=\"right\">20,000</td> <td class=\"right\">-20,000</td> <td class=\"right\">43,000</td> <td class=\"right\">22,000</td> <td class=\"right\">21,000</td> <td class=\"right\">-128,400</td> </tr> <tr> <td>2454</td> <td>聯發科          </td> <td class=\"right\">2,450,000</td> <td class=\"right\">2,482,000</td> <td class=\"right\">-32,000</td> <td class=\"right\">0</td> <td class=\"right\">0</td> <td class=\"right\">0</td> <td class=\"right\">-148,000</td> <td class=\"right\">15,000</td> <td class=\"right\">0</td> <td class=\"right\">15,000</td> <td class=\"right\">43,000</td> <td class=\"right\">206,000</td> <td class=\"right\">-163,000</td> <td class=\"right\">-180,000</td> </tr> <tr> <td>8016</td> <td>矽創            </td> <td class=\"right\">41,000</td> <td class=\"right\">270,000</td> <td class=\"right\">-229,000</td> <td class=\"right\">0</td> <td class=\"right\">0</td> <td class=\"right\">0</td> <td class=\"right\">-6,000</td> <td class=\"right\">0</td> <td class=\"right\">0</td> <td class=\"right\">0</td> <td class=\"right\">0</td> <td class=\"right\">6,000</td> <td class=\"right\">-6,000</td> <td class=\"right\">-235,000</td> </tr> <tr> <td>3189</td> <td>景碩            </td> <td class=\"right\">728,000</td> <td class=\"right\">690,000</td> <td class=\"right\">38,000</td> <td class=\"right\">0</td> <td class=\"right\">249,000</td> <td class=\"right\">-249,000</td> <td class=\"right\">-40,000</td> <td class=\"right\">5,000</td> <td class=\"right\">6,000</td> <td class=\"right\">-1,000</td> <td class=\"right\">51,000</td> <td class=\"right\">90,000</td> <td class=\"right\">-39,000</td> <td class=\"right\">-251,000</td> </tr> <tr> <td>2337</td> <td>旺宏            </td> <td class=\"right\">13,547,000</td> <td class=\"right\">11,529,000</td> <td class=\"right\">2,018,000</td> <td class=\"right\">0</td> <td class=\"right\">1,202,000</td> <td class=\"right\">-1,202,000</td> <td class=\"right\">-1,130,000</td> <td class=\"right\">0</td> <td class=\"right\">1,130,000</td> <td class=\"right\">-1,130,000</td> <td class=\"right\">0</td> <td class=\"right\">0</td> <td class=\"right\">0</td> <td class=\"right\">-314,000</td> </tr> <tr> <td>4919</td> <td>新唐            </td> <td class=\"right\">185,000</td> <td class=\"right\">333,000</td> <td class=\"right\">-148,000</td> <td class=\"right\">0</td> <td class=\"right\">167,000</td> <td class=\"right\">-167,000</td> <td class=\"right\">-24,000</td> <td class=\"right\">0</td> <td class=\"right\">12,000</td> <td class=\"right\">-12,000</td> <td class=\"right\">0</td> <td class=\"right\">12,000</td> <td class=\"right\">-12,000</td> <td class=\"right\">-339,000</td> </tr> <tr> <td>2481</td> <td>強茂            </td> <td class=\"right\">54,000</td> <td class=\"right\">106,000</td> <td class=\"right\">-52,000</td> <td class=\"right\">0</td> <td class=\"right\">0</td> <td class=\"right\">0</td> <td class=\"right\">-309,000</td> <td class=\"right\">11,000</td> <td class=\"right\">320,000</td> <td class=\"right\">-309,000</td> <td class=\"right\">0</td> <td class=\"right\">0</td> <td class=\"right\">0</td> <td class=\"right\">-361,000</td> </tr> <tr> <td>2449</td> <td>京元電子        </td> <td class=\"right\">294,000</td> <td class=\"right\">676,000</td> <td class=\"right\">-382,000</td> <td class=\"right\">0</td> <td class=\"right\">0</td> <td class=\"right\">0</td> <td class=\"right\">-37,000</td> <td class=\"right\">32,000</td> <td class=\"right\">0</td> <td class=\"right\">32,000</td> <td class=\"right\">12,000</td> <td class=\"right\">81,000</td> <td class=\"right\">-69,000</td> <td class=\"right\">-419,000</td> </tr> <tr> <td>3006</td> <td>晶豪科          </td> <td class=\"right\">975,000</td> <td class=\"right\">747,000</td> <td class=\"right\">228,000</td> <td class=\"right\">0</td> <td class=\"right\">43,000</td> <td class=\"right\">-43,000</td> <td class=\"right\">-630,000</td> <td class=\"right\">204,000</td> <td class=\"right\">109,000</td> <td class=\"right\">95,000</td> <td class=\"right\">386,000</td> <td class=\"right\">1,111,000</td> <td class=\"right\">-725,000</td> <td class=\"right\">-445,000</td> </tr> <tr> <td>2344</td> <td>華邦電          </td> <td class=\"right\">7,968,000</td> <td class=\"right\">7,265,000</td> <td class=\"right\">703,000</td> <td class=\"right\">194,000</td> <td class=\"right\">693,000</td> <td class=\"right\">-499,000</td> <td class=\"right\">-840,000</td> <td class=\"right\">729,000</td> <td class=\"right\">1,718,000</td> <td class=\"right\">-989,000</td> <td class=\"right\">2,056,000</td> <td class=\"right\">1,907,000</td> <td class=\"right\">149,000</td> <td class=\"right\">-636,000</td> </tr> <tr> <td>2458</td> <td>義隆            </td> <td class=\"right\">477,000</td> <td class=\"right\">371,000</td> <td class=\"right\">106,000</td> <td class=\"right\">0</td> <td class=\"right\">0</td> <td class=\"right\">0</td> <td class=\"right\">-1,280,000</td> <td class=\"right\">23,000</td> <td class=\"right\">92,000</td> <td class=\"right\">-69,000</td> <td class=\"right\">44,000</td> <td class=\"right\">1,255,000</td> <td class=\"right\">-1,211,000</td> <td class=\"right\">-1,174,000</td> </tr> <tr> <td>8150</td> <td>南茂            </td> <td class=\"right\">1,158,000</td> <td class=\"right\">3,495,000</td> <td class=\"right\">-2,337,000</td> <td class=\"right\">0</td> <td class=\"right\">0</td> <td class=\"right\">0</td> <td class=\"right\">641,000</td> <td class=\"right\">0</td> <td class=\"right\">14,000</td> <td class=\"right\">-14,000</td> <td class=\"right\">823,000</td> <td class=\"right\">168,000</td> <td class=\"right\">655,000</td> <td class=\"right\">-1,696,000</td> </tr> <tr> <td>6239</td> <td>力成            </td> <td class=\"right\">188,000</td> <td class=\"right\">1,663,000</td> <td class=\"right\">-1,475,000</td> <td class=\"right\">0</td> <td class=\"right\">610,000</td> <td class=\"right\">-610,000</td> <td class=\"right\">24,000</td> <td class=\"right\">0</td> <td class=\"right\">0</td> <td class=\"right\">0</td> <td class=\"right\">64,000</td> <td class=\"right\">40,000</td> <td class=\"right\">24,000</td> <td class=\"right\">-2,061,000</td> </tr> <tr> <td>2311</td> <td>日月光          </td> <td class=\"right\">3,418,000</td> <td class=\"right\">5,440,000</td> <td class=\"right\">-2,022,000</td> <td class=\"right\">0</td> <td class=\"right\">435,000</td> <td class=\"right\">-435,000</td> <td class=\"right\">36,000</td> <td class=\"right\">100,000</td> <td class=\"right\">74,000</td> <td class=\"right\">26,000</td> <td class=\"right\">80,000</td> <td class=\"right\">70,000</td> <td class=\"right\">10,000</td> <td class=\"right\">-2,421,000</td> </tr> </tbody></table>]"
      ]
     },
     "execution_count": 47,
     "metadata": {},
     "output_type": "execute_result"
    }
   ],
   "source": [
    "#lnfoLite工具（小工具）\n",
    "res_post_soup = BeautifulSoup(res_post.text,'html.parser')\n",
    "\n",
    "res_post_soup.select('#tbl-sortable')\n",
    "\n"
   ]
  },
  {
   "cell_type": "code",
   "execution_count": null,
   "metadata": {
    "collapsed": true
   },
   "outputs": [],
   "source": []
  }
 ],
 "metadata": {
  "kernelspec": {
   "display_name": "Python 3",
   "language": "python",
   "name": "python3"
  },
  "language_info": {
   "codemirror_mode": {
    "name": "ipython",
    "version": 3
   },
   "file_extension": ".py",
   "mimetype": "text/x-python",
   "name": "python",
   "nbconvert_exporter": "python",
   "pygments_lexer": "ipython3",
   "version": "3.6.0"
  }
 },
 "nbformat": 4,
 "nbformat_minor": 2
}
